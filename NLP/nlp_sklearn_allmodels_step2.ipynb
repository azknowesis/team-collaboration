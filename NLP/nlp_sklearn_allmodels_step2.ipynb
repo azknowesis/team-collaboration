{
 "cells": [
  {
   "cell_type": "markdown",
   "metadata": {},
   "source": [
    "### Supervised learning algorithms:"
   ]
  },
  {
   "cell_type": "markdown",
   "metadata": {},
   "source": [
    "supervised learning model:\n",
    "\n",
    "- Use FY2015 icd9 diagnosis code long desciption as training data.\n",
    "- Use \"Other Diagnosis\" column from Excel as test data\n",
    "\n",
    "- Import Traning data, Separate input and output by slicing into 2 the arrays: one is input for training, the other is target. \n",
    "- Prepare y output target. Use sklearn.preprocessing.LabelEncoder to encode the Target which is ctr of icd9 dx code.\n",
    "- Prepare X input array. Perform feature extraction by using klearn.feature_extraction.text  CountVectorizer with common \"stop words\" (ENGLISH_STOP_WORDS) against icd9 dx long desc.\n",
    "- Create a corpus (bag-of-words with their usage statistics) from the terms that occur answers.\n",
    "- Enhanced the input variable X with a weight for every term. Use klearn.feature_extraction.text import TfidfVectorizer\n",
    "- Use class sklearn.svm.SVC as estimator to fit X/y to implements vector classification.\n",
    "\n",
    "- Prepare X-test data (\"Other Diagnosis\") the same way as the training datasets, using TfidfVectorizer.\n",
    "- Predict X_test with the model created above.\n",
    "\n",
    "\n",
    "\n"
   ]
  },
  {
   "cell_type": "markdown",
   "metadata": {},
   "source": [
    "As tf–idf is very often used for text features, there is also another class called TfidfVectorizer that combines all the options of CountVectorizer and TfidfTransformer in a single model:"
   ]
  },
  {
   "cell_type": "code",
   "execution_count": null,
   "metadata": {},
   "outputs": [],
   "source": [
    "#>>> from sklearn.feature_extraction.text import TfidfVectorizer\n",
    "#>>> vectorizer_t = TfidfVectorizer(stop_words=stop_words.ENGLISH_STOP_WORDS)\n",
    "#>>> X = vectorizer_t.fit_transform(corpus)\n",
    "#>>> X.toarray()"
   ]
  },
  {
   "cell_type": "code",
   "execution_count": null,
   "metadata": {},
   "outputs": [],
   "source": [
    "#>>> vectorizer_t.transform(['Something completely dystrophy.']).toarray()"
   ]
  },
  {
   "cell_type": "markdown",
   "metadata": {},
   "source": [
    "### Prepare Sample X_test"
   ]
  },
  {
   "cell_type": "code",
   "execution_count": 1,
   "metadata": {},
   "outputs": [
    {
     "data": {
      "text/plain": [
       "(5000, 2)"
      ]
     },
     "execution_count": 1,
     "metadata": {},
     "output_type": "execute_result"
    }
   ],
   "source": [
    "import pandas as pd\n",
    "import numpy as np\n",
    "#filename = '~/Downloads/icd9dxref.fy15.txt'\n",
    "url=\"https://raw.githubusercontent.com/azknowesis/team-collaboration/master/NLP/oth_dx.txt\"\n",
    "df_test = pd.read_csv(url, header=None, delimiter='|', dtype=str, nrows = 5000)\n",
    "df_test.shape\n",
    "# print(df)"
   ]
  },
  {
   "cell_type": "code",
   "execution_count": 2,
   "metadata": {},
   "outputs": [],
   "source": [
    ">>> from joblib import dump, load\n",
    "\n",
    "# load vector transformer\n",
    ">>> vectorizer_t = load('./joblib_dump/vectroizer_t_15000.pkl')\n",
    "\n",
    "# load label encoder\n",
    ">>> le = load('./joblib_dump/le_15000_trnfit.joblib')\n",
    "\n",
    "# load classifier\n",
    ">>> clf = load('./joblib_dump/sklearn_svm/clf_svclinear_15000_trnfit.joblib')\n",
    "# >>> clf = load('./joblib_dump/sklearn_svm/clf_svm_svc_15000_trnfit.joblib')\n",
    "# >>> clf = load('./joblib_dump/sklearn_MultinomialNB/clf_MultinomialNB_15000_trnfit.joblib')\n"
   ]
  },
  {
   "cell_type": "code",
   "execution_count": 3,
   "metadata": {
    "scrolled": true
   },
   "outputs": [
    {
     "name": "stdout",
     "output_type": "stream",
     "text": [
      "0                                  blind hypotensive eye\n",
      "1                                               headache\n",
      "2               concussion with no loss of consciousness\n",
      "3                                    epiretinal membrane\n",
      "4      subretinal and intraretinal hemorrhage od with...\n",
      "5                           pdx traumatic vision loss od\n",
      "6      suspect corneal abrasion due to irritation fro...\n",
      "7                                         pseudo aphakia\n",
      "8      s/p os 25c ppv/ilm el with icg/ivf/5f6 20% 1/8...\n",
      "9                                               pciol od\n",
      "10                  eye sensitivity to light photophobia\n",
      "11     s/p os 256ppv/icm peel+fc6/ivf/sf6 20% macular...\n",
      "12                                         eye trauma od\n",
      "13                                     macular puckering\n",
      "14                                      dry eye syndrome\n",
      "15                  visit for military services physical\n",
      "16                        s/p os 256 ppv/ic6/ivt/sf6 25%\n",
      "17                                         eye trauma od\n",
      "18       strabismus non paralytic exotropia monocular od\n",
      "19               strabismus non paralytic hypertropia od\n",
      "20                                     patient education\n",
      "21                       pdx chronic obstructive disease\n",
      "22                                              pciol od\n",
      "23                                            eye trauma\n",
      "24                  foreign body intraocular unspecified\n",
      "25                                    abrasion of cornea\n",
      "26                                              pciol od\n",
      "27                                  ddx corneal abrasion\n",
      "28                                     ddx corneal ulcer\n",
      "29       s/p ppv/ilm peel/mac hole repair/ivt/sf6 stable\n",
      "                             ...                        \n",
      "970                                     vision defect od\n",
      "971                                  regular astigmatism\n",
      "972                                        hypermetropia\n",
      "973                 visit for military services physical\n",
      "974    closed skull fracture of orbital rim zygomatic...\n",
      "975                                          cornea scar\n",
      "976                                         anophthalmos\n",
      "977                                            ectropion\n",
      "978                             visit for screening exam\n",
      "979    visit for screening exam disorder traumatic br...\n",
      "980                 visit for military services physical\n",
      "981                                               myopia\n",
      "982                                  regular astigmatism\n",
      "983                         visit for postsurgical exam.\n",
      "984                                           eye trauma\n",
      "985                 visit for military services physical\n",
      "986                               postsurgical state eye\n",
      "987                           laceration of lower lid od\n",
      "988                                               myopia\n",
      "989          v70.52 visit for military services physical\n",
      "990             conjunctivitis acute bacterial right eye\n",
      "991                                         corneal scar\n",
      "992    post op diplopia w/upgaze 2/2 swelling vs intr...\n",
      "993                       giant papillary conjunctivitis\n",
      "994                                        eye trauma od\n",
      "995                                           concussion\n",
      "996                                     refractive error\n",
      "997                               postsurgical state eye\n",
      "998                                       enucleation os\n",
      "999                                 ohtn based on iop ou\n",
      "Name: 1, Length: 1000, dtype: object\n",
      "1000                superficial injury abrasion of cornea\n",
      "1001                                               myopia\n",
      "1002                                          astigmatism\n",
      "1003             conjunctivitis acute bacterial vs. viral\n",
      "1004    military physical medical evaluation board meb...\n",
      "1005                        vision blurriness tbi related\n",
      "1006    visit for military service physical periodic p...\n",
      "1007         health examination of defined subpopulations\n",
      "1008                          degree of visual impairment\n",
      "1009                                        blurry vision\n",
      "1010         health examination of defined subpopulations\n",
      "1011                                          astigmatism\n",
      "1012                                presumed amblyopia od\n",
      "1013                          recurrent erosion of cornea\n",
      "1014                          recurrent erosion of cornea\n",
      "1015                                        corneal edema\n",
      "1016                      blurry vision likely migrainous\n",
      "1017                          recurrent erosion of cornea\n",
      "1018                                 strabismic amblyopia\n",
      "1019                       chorioretinal scar unspecified\n",
      "1020                                               myopia\n",
      "1021                          recurrent erosion of cornea\n",
      "1022                          other corneal degenerations\n",
      "1023                          other corneal degenerations\n",
      "1024                          other corneal degenerations\n",
      "1025                          other corneal degenerations\n",
      "1026                                               myopia\n",
      "1027                                 strabismic amblyopia\n",
      "1028                       chorioretinal scar unspecified\n",
      "1029                                        blurry vision\n",
      "                              ...                        \n",
      "1970                                irregular astigmatism\n",
      "1971                                              aphakia\n",
      "1972                          corneal scars and opacities\n",
      "1973                             fracture of facial bone.\n",
      "1974                            corneal neovasularization\n",
      "1975                          corneal scars and opacities\n",
      "1976                superficial injury abrasion of cornea\n",
      "1977                           acquired aphakia traumatic\n",
      "1978                                       conjunctivitis\n",
      "1979                                  nicotine dependence\n",
      "1980                                       fracture skull\n",
      "1981               tympanic membrane perforation left ear\n",
      "1982                                traumatic cataract od\n",
      "1983                           military services physical\n",
      "1984                            corneal neovasularization\n",
      "1985    aftercare following surgery of the sense organ...\n",
      "1986                               postsurgical state eye\n",
      "1987                           military services physical\n",
      "1988                          corneal scars and opacities\n",
      "1989                            corneal neovasularization\n",
      "1990                        adhesions of iris unspecified\n",
      "1991                           acquired aphakia traumatic\n",
      "1992    h40.11x3 primary open angle glaucoma severe stage\n",
      "1993                                          astigmatism\n",
      "1994                           injury of the median nerve\n",
      "1995    military physical medical evaluation board meb...\n",
      "1996                                                   os\n",
      "1997                                                   os\n",
      "1998                           military services physical\n",
      "1999              superficial injury laceration of cornea\n",
      "Name: 1, Length: 1000, dtype: object\n"
     ]
    }
   ],
   "source": [
    "# export output\n",
    "pathname = './flatfiles/sklearn_svmsvclinear/'\n",
    "# pathname = './flatfiles/sklearn_svmsvcrbf/'\n",
    "# pathname = './flatfiles/sklearn_MultinomialNB/'\n",
    "\n",
    "batch_size = 1000\n",
    "n=0\n",
    "\n",
    "#for n in range(1): # range 2 includes 0:1\n",
    "while n < 2:\n",
    "    df_a = df_test[batch_size*n:batch_size*(n+1)]  # used to  result = pd.concat([df_a, s1], axis=1) in the end\n",
    "    df_test1 = df_test.iloc[batch_size*n:batch_size*(n+1),1]\n",
    "    print(df_test1)\n",
    "    #df_test1.shape\n",
    "    \n",
    "    # Convert Dataframe to list\n",
    "    inputx_test = df_test1.astype(str).values.tolist()\n",
    "    #inputx_test\n",
    "    \n",
    "    # transform and vecterize input dx string based on training model\n",
    "    X_test = vectorizer_t.transform(inputx_test)\n",
    "    X_test.toarray()\n",
    "    X_test.shape\n",
    "    \n",
    "    # predict, and get dx code based on encoder value\n",
    "    # clf.predict(X_test)\n",
    "    outputx_test = list(le.inverse_transform(clf.predict(X_test)))\n",
    "    #outputx_test\n",
    "    \n",
    "    # Option 3:\n",
    "    #df_a[2] = outputx_test, got SettingWithCopyWarning. use df.assign instead\n",
    "    result = df_a.assign(e=outputx_test)\n",
    "    \n",
    "    # export output\n",
    "\n",
    "    filename = pathname + 'batch_' + str(n)\n",
    "    result.to_csv(filename, sep='|', header=False)\n",
    "    \n",
    "    n += 1"
   ]
  },
  {
   "cell_type": "code",
   "execution_count": null,
   "metadata": {},
   "outputs": [],
   "source": [
    "# Option 1:\n",
    "#>>> import pandas as pd\n",
    "#>>> dict1 = {'oth_dx':inputx_test,'dx_code':outputx_test}\n",
    "#>>> df_output = pd.DataFrame(dict1)\n",
    "#>>> df_output\n",
    "\n",
    "# Option 2: got warning\n",
    "# df_b = pd.DataFrame(outputx_test)\n",
    "#result = pd.concat([df_a, df_b], axis=1)"
   ]
  },
  {
   "cell_type": "code",
   "execution_count": null,
   "metadata": {},
   "outputs": [],
   "source": [
    "#>>> result = df1.append([df2, df3])"
   ]
  },
  {
   "cell_type": "code",
   "execution_count": null,
   "metadata": {},
   "outputs": [],
   "source": []
  }
 ],
 "metadata": {
  "kernelspec": {
   "display_name": "Python 3",
   "language": "python",
   "name": "python3"
  },
  "language_info": {
   "codemirror_mode": {
    "name": "ipython",
    "version": 3
   },
   "file_extension": ".py",
   "mimetype": "text/x-python",
   "name": "python",
   "nbconvert_exporter": "python",
   "pygments_lexer": "ipython3",
   "version": "3.6.7"
  }
 },
 "nbformat": 4,
 "nbformat_minor": 2
}
