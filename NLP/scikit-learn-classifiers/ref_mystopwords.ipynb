{
 "cells": [
  {
   "cell_type": "code",
   "execution_count": 1,
   "metadata": {},
   "outputs": [
    {
     "name": "stdout",
     "output_type": "stream",
     "text": [
      "frozenset({'down', 'namely', 'third', 'whatever', 'these', 'here', 'while', 'almost', 'thru', 'etc', 'onto', 'this', 'up', 'if', 'thence', 'nine', 'take', 'anything', 'became', 'beside', 'even', 'has', 'them', 'thus', 'meanwhile', 'none', 'find', 'four', 'eleven', 'see', 'yet', 'con', 'otherwise', 'front', 'noone', 'where', 'of', 'give', 'which', 'few', 'latterly', 'can', 'eight', 'hers', 'never', 'ours', 'therefore', 'eg', 'two', 'five', 'my', 'being', 'everywhere', 'please', 'else', 'cant', 'empty', 'yourselves', 'same', 'above', 'amoungst', 'both', 'hereafter', 'or', 'an', 'than', 'seemed', 'thick', 'whether', 'as', 'whoever', 'therein', 'top', 'sometime', 'first', 'some', 'wherein', 'go', 'due', 'but', 'now', 'one', 'towards', 'on', 'who', 'enough', 'via', 'be', 'own', 'indeed', 'would', 'whole', 'am', 'along', 'also', 'anyone', 'herself', 'cry', 'seem', 'found', 'someone', 'there', 'before', 'will', 'serious', 'move', 'our', 'myself', 'made', 'forty', 'anyhow', 'whom', 'elsewhere', 'with', 'whither', 'across', 'couldnt', 'full', 'had', 'ltd', 'sometimes', 'was', 'we', 'often', 'why', 'when', 'together', 'twelve', 'a', 'much', 'whose', 'seems', 'wherever', 'throughout', 'by', 'until', 'in', 'another', 'beyond', 'interest', 'next', 'for', 'upon', 'whereupon', 'co', 'put', 'each', 'rather', 'must', 'yours', 'un', 'been', 'all', 'however', 'anyway', 'many', 'further', 'then', 'sixty', 'except', 'so', 'nor', 'well', 'whereafter', 'thereafter', 'your', 'side', 'you', 'back', 'thereupon', 'less', 'becoming', 'more', 'name', 'because', 'every', 'out', 'hereby', 'get', 'other', 'several', 'yourself', 'already', 'perhaps', 'become', 'beforehand', 'she', 'everyone', 'afterwards', 'something', 'over', 'becomes', 'it', 'whence', 'me', 'against', 'may', 'mostly', 'three', 'below', 'nowhere', 'somewhere', 'under', 'very', 'hasnt', 'keep', 'might', 'whenever', 'to', 'around', 'about', 'once', 'ever', 'per', 'least', 'detail', 'could', 'do', 'fire', 'from', 'hence', 'its', 'itself', 'at', 'others', 'thin', 'formerly', 'that', 'whereas', 'her', 'although', 'hereupon', 'call', 'amongst', 'mine', 'inc', 'what', 'latter', 'off', 'should', 'without', 'somehow', 'moreover', 'nothing', 'again', 'always', 'done', 'him', 'between', 'mill', 'besides', 'seeming', 'have', 'such', 'fifteen', 'within', 'the', 'part', 'behind', 'ie', 'thereby', 'six', 'though', 'themselves', 'and', 'through', 'how', 'since', 'alone', 'ten', 'describe', 'herein', 'hundred', 'whereby', 'any', 'nobody', 'still', 'into', 'himself', 'former', 'either', 'show', 'no', 'us', 'those', 'toward', 'among', 'during', 'nevertheless', 'only', 'i', 'their', 'are', 'bill', 'cannot', 'fill', 'sincere', 'de', 'twenty', 'fifty', 'neither', 'too', 'everything', 'were', 'most', 'anywhere', 'he', 'amount', 'after', 'bottom', 're', 'not', 'system', 'his', 'ourselves', 'they', 'last', 'is'})\n"
     ]
    }
   ],
   "source": [
    "from sklearn.feature_extraction import stop_words\n",
    "print(stop_words.ENGLISH_STOP_WORDS)"
   ]
  },
  {
   "cell_type": "code",
   "execution_count": 3,
   "metadata": {},
   "outputs": [
    {
     "name": "stdout",
     "output_type": "stream",
     "text": [
      "frozenset({'down', 'namely', 'whatever', 'these', 'while', 'thru', 'etc', 'up', 'if', 'thence', 'take', 'became', 'beside', 'has', 'them', 'eleven', 'see', 'otherwise', 'front', 'noone', 'where', 'of', 'give', 'which', 'few', 'latterly', 'eight', 'therefore', 'eg', 'two', 'my', 'being', 'please', 'above', 'both', 'hereafter', 'an', 'seemed', 'thick', 'top', 'some', 'wherein', 'go', 'but', 'enough', 'be', 'indeed', 'along', 'also', 'anyone', 'seem', 'before', 'our', 'myself', 'made', 'whom', 'anyhow', 'elsewhere', 'full', 'sometimes', 'often', 'when', 'together', 'a', 'much', 'wherever', 'by', 'until', 'in', 'beyond', 'ZHANG', 'un', 'been', 'all', 'then', 'sixty', 'so', 'well', 'your', 'side', 'back', 'becoming', 'more', 'name', 'because', 'hereby', 'perhaps', 'she', 'afterwards', 'something', 'becomes', 'mostly', 'three', 'below', 'very', 'under', 'hasnt', 'keep', 'might', 'to', 'around', 'about', 'once', 'could', 'hence', 'others', 'from', 'itself', 'its', 'thin', 'that', 'although', 'hereupon', 'call', 'amongst', 'mine', 'inc', 'what', 'off', 'between', 'seeming', 'have', 'such', 'fifteen', 'within', 'the', 'part', 'thereby', 'six', 'and', 'how', 'ten', 'alone', 'whereby', 'describe', 'herein', 'hundred', 'into', 'himself', 'us', 'toward', 'among', 'i', 'are', 'fill', 'sincere', 'de', 'were', 'neither', 'most', 'anywhere', 'amount', 'after', 'system', 'not', 'they', 'his', 'should', 'last', 'third', 'here', 'almost', 'onto', 'this', 'nine', 'anything', 'even', 'meanwhile', 'none', 'find', 'four', 'con', 'can', 'never', 'hers', 'ours', 'five', 'everywhere', 'else', 'cant', 'empty', 'yourselves', 'same', 'amoungst', 'or', 'than', 'whether', 'as', 'whoever', 'therein', 'sometime', 'first', 'due', 'now', 'one', 'on', 'who', 'via', 'own', 'would', 'whole', 'am', 'herself', 'cry', 'found', 'someone', 'there', 'will', 'serious', 'move', 'forty', 'with', 'whither', 'across', 'couldnt', 'ltd', 'had', 'was', 'twelve', 'whose', 'seems', 'throughout', 'another', 'interest', 'next', 'for', 'whereupon', 'co', 'put', 'each', 'rather', 'must', 'yours', 'however', 'many', 'anyway', 'further', 'except', 'nor', 'whereafter', 'thereafter', 'yet', 'thereupon', 'less', 'you', 'out', 'still', 'every', 'is', 'get', 'other', 'WANG', 'yourself', 'already', 'become', 'beforehand', 'everyone', 'over', 'it', 'whence', 'me', 'against', 'may', 'nowhere', 'somewhere', 'whenever', 'ever', 'per', 'least', 'detail', 'fire', 'do', 'at', 'formerly', 'whereas', 'her', 'latter', 'without', 'somehow', 'moreover', 'nothing', 'again', 'always', 'done', 'him', 'mill', 'besides', 'behind', 'ie', 'towards', 'though', 'themselves', 'why', 'through', 'since', 'any', 'nobody', 'former', 'either', 'show', 'no', 'those', 'thus', 'upon', 'during', 'nevertheless', 'only', 'their', 'we', 'bill', 'cannot', 'twenty', 'fifty', 'too', 'everything', 'he', 'bottom', 're', 'ourselves', 'several'})\n"
     ]
    }
   ],
   "source": [
    ">>> my_words = ({'ZHANG', 'WANG'})\n",
    ">>> my_stop_words = stop_words.ENGLISH_STOP_WORDS.union(my_words)\n",
    ">>> print(my_stop_words)"
   ]
  },
  {
   "cell_type": "code",
   "execution_count": 4,
   "metadata": {},
   "outputs": [],
   "source": [
    "my_stop_words = stop_words.ENGLISH_STOP_WORDS.union([\"book\"])\n",
    "\n",
    "#vectorizer = TfidfVectorizer(ngram_range=(1,1), stop_words=my_stop_words)"
   ]
  },
  {
   "cell_type": "code",
   "execution_count": null,
   "metadata": {},
   "outputs": [],
   "source": []
  }
 ],
 "metadata": {
  "kernelspec": {
   "display_name": "Python 3",
   "language": "python",
   "name": "python3"
  },
  "language_info": {
   "codemirror_mode": {
    "name": "ipython",
    "version": 3
   },
   "file_extension": ".py",
   "mimetype": "text/x-python",
   "name": "python",
   "nbconvert_exporter": "python",
   "pygments_lexer": "ipython3",
   "version": "3.6.7"
  }
 },
 "nbformat": 4,
 "nbformat_minor": 2
}
