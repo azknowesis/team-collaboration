{
 "cells": [
  {
   "cell_type": "code",
   "execution_count": 1,
   "metadata": {},
   "outputs": [
    {
     "name": "stdout",
     "output_type": "stream",
     "text": [
      "frozenset({'there', 'without', 'seemed', 'many', 'a', 'anyone', 'my', 'any', 'bottom', 'seems', 'found', 'whither', 'we', 'system', 'becoming', 'one', 'after', 'behind', 'thin', 'nowhere', 'ten', 'than', 'cry', 'neither', 'can', 'himself', 'became', 'where', 'cant', 'call', 'name', 'almost', 'should', 'except', 'alone', 'last', 'least', 'top', 'by', 'will', 'amoungst', 'own', 'so', 'under', 'de', 'more', 'con', 'whenever', 'indeed', 'thereupon', 'hasnt', 'else', 'few', 'across', 'who', 'besides', 'would', 'everything', 'whether', 'hereby', 'off', 'out', 'some', 'namely', 'whatever', 'co', 'too', 'why', 'hundred', 'herein', 'thereby', 'detail', 'get', 'beforehand', 'sometime', 'inc', 'him', 'still', 'if', 'due', 'thence', 'latterly', 'somehow', 'through', 'already', 'other', 'fifteen', 'first', 'everyone', 'fifty', 'had', 'is', 'back', 'during', 'anything', 'eight', 'anyhow', 'ever', 'he', 'former', 'into', 'at', 'find', 'keep', 'perhaps', 'next', 'empty', 'four', 'rather', 'whole', 'also', 'might', 'have', 'ours', 'around', 'because', 'therefore', 'noone', 'although', 'yourselves', 'amount', 'mine', 'therein', 'and', 'this', 'nobody', 'fill', 're', 'along', 'them', 'your', 'always', 'been', 'i', 'something', 'are', 'for', 'yet', 'ltd', 'while', 'go', 'here', 'two', 'that', 'hereafter', 'over', 'sincere', 'third', 'together', 'could', 'others', 'us', 'whereupon', 'she', 'via', 'herself', 'myself', 'interest', 'their', 'less', 'among', 'amongst', 'thick', 'thru', 'cannot', 'again', 'against', 'hers', 'meanwhile', 'much', 'themselves', 'whose', 'but', 'yourself', 'otherwise', 'from', 'itself', 'put', 'somewhere', 'they', 'being', 'wherein', 'or', 'whom', 'onto', 'do', 'yours', 'it', 'the', 'several', 'none', 'part', 'above', 'both', 'very', 'sometimes', 'bill', 'as', 'everywhere', 'couldnt', 'wherever', 'thereafter', 'when', 'give', 'nor', 'those', 'between', 'how', 'become', 'an', 'has', 'someone', 'though', 'formerly', 'full', 'be', 'up', 'most', 'beyond', 'enough', 'seeming', 'three', 'in', 'describe', 'on', 'serious', 'take', 'upon', 'to', 'all', 'afterwards', 'never', 'with', 'beside', 'even', 'its', 'only', 'you', 'side', 'before', 'move', 'five', 'fire', 'these', 'what', 'done', 'same', 'further', 'either', 'made', 'must', 'until', 'another', 'etc', 'nothing', 'however', 'often', 'throughout', 'twenty', 'un', 'were', 'may', 'please', 'such', 'elsewhere', 'anyway', 'once', 'anywhere', 'whereby', 'towards', 'front', 'mostly', 'his', 'six', 'am', 'below', 'then', 'seem', 'show', 'whereas', 'which', 'me', 'whence', 'forty', 'mill', 'within', 'see', 'since', 'sixty', 'each', 'nevertheless', 'well', 'latter', 'twelve', 'her', 'per', 'eleven', 'eg', 'every', 'hence', 'ourselves', 'no', 'of', 'was', 'down', 'nine', 'hereupon', 'thus', 'toward', 'whereafter', 'now', 'ie', 'becomes', 'moreover', 'whoever', 'our', 'not', 'about'})\n"
     ]
    }
   ],
   "source": [
    "from sklearn.feature_extraction import stop_words\n",
    "print(stop_words.ENGLISH_STOP_WORDS)"
   ]
  },
  {
   "cell_type": "code",
   "execution_count": 3,
   "metadata": {},
   "outputs": [
    {
     "name": "stdout",
     "output_type": "stream",
     "text": [
      "frozenset({'down', 'namely', 'whatever', 'these', 'while', 'thru', 'etc', 'up', 'if', 'thence', 'take', 'became', 'beside', 'has', 'them', 'eleven', 'see', 'otherwise', 'front', 'noone', 'where', 'of', 'give', 'which', 'few', 'latterly', 'eight', 'therefore', 'eg', 'two', 'my', 'being', 'please', 'above', 'both', 'hereafter', 'an', 'seemed', 'thick', 'top', 'some', 'wherein', 'go', 'but', 'enough', 'be', 'indeed', 'along', 'also', 'anyone', 'seem', 'before', 'our', 'myself', 'made', 'whom', 'anyhow', 'elsewhere', 'full', 'sometimes', 'often', 'when', 'together', 'a', 'much', 'wherever', 'by', 'until', 'in', 'beyond', 'ZHANG', 'un', 'been', 'all', 'then', 'sixty', 'so', 'well', 'your', 'side', 'back', 'becoming', 'more', 'name', 'because', 'hereby', 'perhaps', 'she', 'afterwards', 'something', 'becomes', 'mostly', 'three', 'below', 'very', 'under', 'hasnt', 'keep', 'might', 'to', 'around', 'about', 'once', 'could', 'hence', 'others', 'from', 'itself', 'its', 'thin', 'that', 'although', 'hereupon', 'call', 'amongst', 'mine', 'inc', 'what', 'off', 'between', 'seeming', 'have', 'such', 'fifteen', 'within', 'the', 'part', 'thereby', 'six', 'and', 'how', 'ten', 'alone', 'whereby', 'describe', 'herein', 'hundred', 'into', 'himself', 'us', 'toward', 'among', 'i', 'are', 'fill', 'sincere', 'de', 'were', 'neither', 'most', 'anywhere', 'amount', 'after', 'system', 'not', 'they', 'his', 'should', 'last', 'third', 'here', 'almost', 'onto', 'this', 'nine', 'anything', 'even', 'meanwhile', 'none', 'find', 'four', 'con', 'can', 'never', 'hers', 'ours', 'five', 'everywhere', 'else', 'cant', 'empty', 'yourselves', 'same', 'amoungst', 'or', 'than', 'whether', 'as', 'whoever', 'therein', 'sometime', 'first', 'due', 'now', 'one', 'on', 'who', 'via', 'own', 'would', 'whole', 'am', 'herself', 'cry', 'found', 'someone', 'there', 'will', 'serious', 'move', 'forty', 'with', 'whither', 'across', 'couldnt', 'ltd', 'had', 'was', 'twelve', 'whose', 'seems', 'throughout', 'another', 'interest', 'next', 'for', 'whereupon', 'co', 'put', 'each', 'rather', 'must', 'yours', 'however', 'many', 'anyway', 'further', 'except', 'nor', 'whereafter', 'thereafter', 'yet', 'thereupon', 'less', 'you', 'out', 'still', 'every', 'is', 'get', 'other', 'WANG', 'yourself', 'already', 'become', 'beforehand', 'everyone', 'over', 'it', 'whence', 'me', 'against', 'may', 'nowhere', 'somewhere', 'whenever', 'ever', 'per', 'least', 'detail', 'fire', 'do', 'at', 'formerly', 'whereas', 'her', 'latter', 'without', 'somehow', 'moreover', 'nothing', 'again', 'always', 'done', 'him', 'mill', 'besides', 'behind', 'ie', 'towards', 'though', 'themselves', 'why', 'through', 'since', 'any', 'nobody', 'former', 'either', 'show', 'no', 'those', 'thus', 'upon', 'during', 'nevertheless', 'only', 'their', 'we', 'bill', 'cannot', 'twenty', 'fifty', 'too', 'everything', 'he', 'bottom', 're', 'ourselves', 'several'})\n"
     ]
    }
   ],
   "source": [
    ">>> my_words = ({'ZHANG', 'WANG'})\n",
    ">>> my_stop_words = stop_words.ENGLISH_STOP_WORDS.union(my_words)\n",
    ">>> print(my_stop_words)"
   ]
  },
  {
   "cell_type": "code",
   "execution_count": 4,
   "metadata": {},
   "outputs": [],
   "source": [
    "my_stop_words = stop_words.ENGLISH_STOP_WORDS.union([\"book\"])\n",
    "\n",
    "#vectorizer = TfidfVectorizer(ngram_range=(1,1), stop_words=my_stop_words)"
   ]
  },
  {
   "cell_type": "code",
   "execution_count": null,
   "metadata": {},
   "outputs": [],
   "source": []
  }
 ],
 "metadata": {
  "kernelspec": {
   "display_name": "Python 3",
   "language": "python",
   "name": "python3"
  },
  "language_info": {
   "codemirror_mode": {
    "name": "ipython",
    "version": 3
   },
   "file_extension": ".py",
   "mimetype": "text/x-python",
   "name": "python",
   "nbconvert_exporter": "python",
   "pygments_lexer": "ipython3",
   "version": "3.6.7"
  }
 },
 "nbformat": 4,
 "nbformat_minor": 2
}
