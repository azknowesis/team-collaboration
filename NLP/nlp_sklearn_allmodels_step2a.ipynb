{
 "cells": [
  {
   "cell_type": "markdown",
   "metadata": {},
   "source": [
    "### Supervised learning algorithms:"
   ]
  },
  {
   "cell_type": "markdown",
   "metadata": {},
   "source": [
    "supervised learning model:\n",
    "\n",
    "- Use FY2015 icd9 diagnosis code long desciption as training data.\n",
    "- Use \"Other Diagnosis\" column from Excel as test data\n",
    "\n",
    "- Import Traning data, Separate input and output by slicing into 2 the arrays: one is input for training, the other is target. \n",
    "- Prepare y output target. Use sklearn.preprocessing.LabelEncoder to encode the Target which is ctr of icd9 dx code.\n",
    "- Prepare X input array. Perform feature extraction by using klearn.feature_extraction.text  CountVectorizer with common \"stop words\" (ENGLISH_STOP_WORDS) against icd9 dx long desc.\n",
    "- Create a corpus (bag-of-words with their usage statistics) from the terms that occur answers.\n",
    "- Enhanced the input variable X with a weight for every term. Use klearn.feature_extraction.text import TfidfVectorizer\n",
    "- Use class sklearn.svm.SVC as estimator to fit X/y to implements vector classification.\n",
    "\n",
    "- Prepare X-test data (\"Other Diagnosis\") the same way as the training datasets, using TfidfVectorizer.\n",
    "- Predict X_test with the model created above.\n",
    "\n",
    "\n",
    "\n"
   ]
  },
  {
   "cell_type": "markdown",
   "metadata": {},
   "source": [
    "As tf–idf is very often used for text features, there is also another class called TfidfVectorizer that combines all the options of CountVectorizer and TfidfTransformer in a single model:"
   ]
  },
  {
   "cell_type": "code",
   "execution_count": null,
   "metadata": {},
   "outputs": [],
   "source": [
    "#>>> from sklearn.feature_extraction.text import TfidfVectorizer\n",
    "#>>> vectorizer_t = TfidfVectorizer(stop_words=stop_words.ENGLISH_STOP_WORDS)\n",
    "#>>> X = vectorizer_t.fit_transform(corpus)\n",
    "#>>> X.toarray()"
   ]
  },
  {
   "cell_type": "code",
   "execution_count": null,
   "metadata": {},
   "outputs": [],
   "source": [
    "#>>> vectorizer_t.transform(['Something completely dystrophy.']).toarray()"
   ]
  },
  {
   "cell_type": "markdown",
   "metadata": {},
   "source": [
    "### Prepare Sample X_test"
   ]
  },
  {
   "cell_type": "code",
   "execution_count": 5,
   "metadata": {},
   "outputs": [
    {
     "data": {
      "text/plain": [
       "(5000, 2)"
      ]
     },
     "execution_count": 5,
     "metadata": {},
     "output_type": "execute_result"
    }
   ],
   "source": [
    "import pandas as pd\n",
    "import numpy as np\n",
    "#filename = '~/Downloads/icd9dxref.fy15.txt'\n",
    "url=\"https://raw.githubusercontent.com/azknowesis/team-collaboration/master/NLP/oth_dx.txt\"\n",
    "df_test = pd.read_csv(url, header=None, delimiter='|', dtype=str, nrows = 5000)\n",
    "df_test.shape\n",
    "# print(df)"
   ]
  },
  {
   "cell_type": "code",
   "execution_count": 1,
   "metadata": {},
   "outputs": [],
   "source": [
    ">>> from joblib import dump, load\n",
    "\n",
    "# load vector transformer\n",
    ">>> vectorizer_t = load('./joblib_dump/vectroizer_t.pkl')\n",
    "\n",
    "# load label encoder\n",
    ">>> le = load('./joblib_dump/le_trnfit.joblib')\n",
    "\n",
    "# load classifier\n",
    ">>> clf = load('./joblib_dump/sklearn_svm/clf_svclinear_cache500_trnfit.joblib')\n",
    "# >>> clf = load('./joblib_dump/sklearn_svm/clf_svm_svc_15000_trnfit.joblib')\n",
    "# >>> clf = load('./joblib_dump/sklearn_MultinomialNB/clf_MultinomialNB_15000_trnfit.joblib')\n"
   ]
  },
  {
   "cell_type": "code",
   "execution_count": 2,
   "metadata": {},
   "outputs": [
    {
     "data": {
      "text/plain": [
       "['36041', '36813 1', '8500', '36813 1', '36813 1', 'V720', '52120', '36813 1']"
      ]
     },
     "execution_count": 2,
     "metadata": {},
     "output_type": "execute_result"
    }
   ],
   "source": [
    "# inputx_test = ['blind hypotensive eye',\n",
    "# 'eye sensitivity to light photophobia',\n",
    "# 'concussion with no loss of consciousness',\n",
    "# 'photophobia od',\n",
    "# 'h/o tbi with chronic photophobia esp od.sxs have improved over past year. ct orbits was normal still symptomatic sunglass help.',\n",
    "# 'pdx traumatic vision loss od',\n",
    "# 'suspect corneal abrasion due to irritation from contact lense',\n",
    "# 'pdx photophobia right']\n",
    "\n",
    "# #inputx_test\n",
    "\n",
    "# # transform and vecterize input dx string based on training model\n",
    "# X_test = vectorizer_t.transform(inputx_test)\n",
    "# X_test.toarray()\n",
    "# X_test.shape\n",
    "    \n",
    "# # predict, and get dx code based on encoder value\n",
    "# # clf.predict(X_test)\n",
    "# outputx_test = list(le.inverse_transform(clf.predict(X_test)))\n",
    "# outputx_test"
   ]
  },
  {
   "cell_type": "code",
   "execution_count": 6,
   "metadata": {
    "scrolled": true
   },
   "outputs": [
    {
     "name": "stdout",
     "output_type": "stream",
     "text": [
      "0                                   blind hypotensive eye\n",
      "1                                                headache\n",
      "2                concussion with no loss of consciousness\n",
      "3                                     epiretinal membrane\n",
      "4       subretinal and intraretinal hemorrhage od with...\n",
      "5                            pdx traumatic vision loss od\n",
      "6       suspect corneal abrasion due to irritation fro...\n",
      "7                                          pseudo aphakia\n",
      "8       s/p os 25c ppv/ilm el with icg/ivf/5f6 20% 1/8...\n",
      "9                                                pciol od\n",
      "10                   eye sensitivity to light photophobia\n",
      "11      s/p os 256ppv/icm peel+fc6/ivf/sf6 20% macular...\n",
      "12                                          eye trauma od\n",
      "13                                      macular puckering\n",
      "14                                       dry eye syndrome\n",
      "15                   visit for military services physical\n",
      "16                         s/p os 256 ppv/ic6/ivt/sf6 25%\n",
      "17                                          eye trauma od\n",
      "18        strabismus non paralytic exotropia monocular od\n",
      "19                strabismus non paralytic hypertropia od\n",
      "20                                      patient education\n",
      "21                        pdx chronic obstructive disease\n",
      "22                                               pciol od\n",
      "23                                             eye trauma\n",
      "24                   foreign body intraocular unspecified\n",
      "25                                     abrasion of cornea\n",
      "26                                               pciol od\n",
      "27                                   ddx corneal abrasion\n",
      "28                                      ddx corneal ulcer\n",
      "29        s/p ppv/ilm peel/mac hole repair/ivt/sf6 stable\n",
      "                              ...                        \n",
      "4970                 improving left periorbital infection\n",
      "4971                               postsurgical state eye\n",
      "4972                       unspecified retinal detachment\n",
      "4973                                       optic neuritis\n",
      "4974                                     dry eye syndrome\n",
      "4975                                    phthisis bulbi od\n",
      "4976                       unspecified retinal detachment\n",
      "4977                                          svied blast\n",
      "4978                                          vision loss\n",
      "4979                                     rt globe rupture\n",
      "4980                       occipital soft tissue hematoma\n",
      "4981                                     pdx foreign body\n",
      "4982                    irritation inside ul resolving od\n",
      "4983                      mild dry eye ou reduced tbut ou\n",
      "4984                         pdx retained foreign body od\n",
      "4985                         pdx retained foreign body od\n",
      "4986                                     left eye abscess\n",
      "4987                             left periorbital abscess\n",
      "4988                                   visual disturbance\n",
      "4989                   ocular adnexa laceration of eyelid\n",
      "4990                                            ied blast\n",
      "4991                                  visual disturbances\n",
      "4992                                     rt globe rupture\n",
      "4993                                            emmetrope\n",
      "4994        rx=m. pt appreciate incr nva with higher add.\n",
      "4995                         traumatic optic nerve injury\n",
      "4996                                 optic nerve neuritis\n",
      "4997                         traumatic optic nerve injury\n",
      "4998                                    optic neuritis os\n",
      "4999                                     left eye abscess\n",
      "Name: 1, Length: 5000, dtype: object\n"
     ]
    }
   ],
   "source": [
    "# export output\n",
    "pathname = './flatfiles/svmsvclinear/'\n",
    "# pathname = './flatfiles/sklearn_svmsvcrbf/'\n",
    "# pathname = './flatfiles/sklearn_MultinomialNB/'\n",
    "\n",
    "batch_size = 5000\n",
    "n=0\n",
    "\n",
    "#for n in range(1): # range 2 includes 0:1\n",
    "while n < 1:\n",
    "    df_a = df_test[batch_size*n:batch_size*(n+1)]  # used to  result = pd.concat([df_a, s1], axis=1) in the end\n",
    "    df_test1 = df_test.iloc[batch_size*n:batch_size*(n+1),1]\n",
    "    print(df_test1)\n",
    "    #df_test1.shape\n",
    "    \n",
    "    # Convert Dataframe to list\n",
    "    inputx_test = df_test1.astype(str).values.tolist()\n",
    "    #inputx_test\n",
    "    \n",
    "    # transform and vecterize input dx string based on training model\n",
    "    X_test = vectorizer_t.transform(inputx_test)\n",
    "    X_test.toarray()\n",
    "    X_test.shape\n",
    "    \n",
    "    # predict, and get dx code based on encoder value\n",
    "    # clf.predict(X_test)\n",
    "    outputx_test = list(le.inverse_transform(clf.predict(X_test)))\n",
    "    #outputx_test\n",
    "    \n",
    "    # Option 3:\n",
    "    #df_a[2] = outputx_test, got SettingWithCopyWarning. use df.assign instead\n",
    "    result = df_a.assign(e=outputx_test)\n",
    "    \n",
    "    # export output\n",
    "\n",
    "    filename = pathname + 'batch_' + str(n)\n",
    "    result.to_csv(filename, sep='|', header=False)\n",
    "    \n",
    "    n += 1"
   ]
  },
  {
   "cell_type": "code",
   "execution_count": null,
   "metadata": {},
   "outputs": [],
   "source": [
    "# Option 1:\n",
    "#>>> import pandas as pd\n",
    "#>>> dict1 = {'oth_dx':inputx_test,'dx_code':outputx_test}\n",
    "#>>> df_output = pd.DataFrame(dict1)\n",
    "#>>> df_output\n",
    "\n",
    "# Option 2: got warning\n",
    "# df_b = pd.DataFrame(outputx_test)\n",
    "#result = pd.concat([df_a, df_b], axis=1)"
   ]
  },
  {
   "cell_type": "code",
   "execution_count": null,
   "metadata": {},
   "outputs": [],
   "source": [
    "#>>> result = df1.append([df2, df3])"
   ]
  },
  {
   "cell_type": "code",
   "execution_count": null,
   "metadata": {},
   "outputs": [],
   "source": []
  }
 ],
 "metadata": {
  "kernelspec": {
   "display_name": "Python 3",
   "language": "python",
   "name": "python3"
  },
  "language_info": {
   "codemirror_mode": {
    "name": "ipython",
    "version": 3
   },
   "file_extension": ".py",
   "mimetype": "text/x-python",
   "name": "python",
   "nbconvert_exporter": "python",
   "pygments_lexer": "ipython3",
   "version": "3.7.1"
  }
 },
 "nbformat": 4,
 "nbformat_minor": 2
}
