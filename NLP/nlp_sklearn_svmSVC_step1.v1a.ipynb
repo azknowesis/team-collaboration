{
 "cells": [
  {
   "cell_type": "markdown",
   "metadata": {},
   "source": [
    "### Supervised learning algorithms:"
   ]
  },
  {
   "cell_type": "markdown",
   "metadata": {},
   "source": [
    "supervised learning model:\n",
    "\n",
    "- Use FY2015 icd9 diagnosis code long desciption as training data.\n",
    "- Use \"Other Diagnosis\" column from Excel as test data\n",
    "\n",
    "- Import Traning data, Separate input and output by slicing into 2 the arrays: one is input for training, the other is target. \n",
    "- Prepare y output target. Use sklearn.preprocessing.LabelEncoder to encode the Target which is ctr of icd9 dx code.\n",
    "- Prepare X input array. Perform feature extraction by using klearn.feature_extraction.text  CountVectorizer with common \"stop words\" (ENGLISH_STOP_WORDS) against icd9 dx long desc.\n",
    "- Create a corpus (bag-of-words with their usage statistics) from the terms that occur answers.\n",
    "- Enhanced the input variable X with a weight for every term. Use klearn.feature_extraction.text import TfidfVectorizer\n",
    "- Use class sklearn.svm.SVC as estimator to fit X/y to implements vector classification.\n",
    "\n",
    "- Prepare X-test data (\"Other Diagnosis\") the same way as the training datasets, using TfidfVectorizer.\n",
    "- Predict X_test with the model created above.\n",
    "\n",
    "\n",
    "\n"
   ]
  },
  {
   "cell_type": "markdown",
   "metadata": {},
   "source": [
    "### Import Training data\n"
   ]
  },
  {
   "cell_type": "code",
   "execution_count": 1,
   "metadata": {},
   "outputs": [],
   "source": [
    "import pandas as pd\n",
    "import numpy as np\n",
    "#filename = '~/Downloads/icd9dxref.fy15.txt'\n",
    "url=\"https://raw.githubusercontent.com/azknowesis/team-collaboration/master/NLP/icd9dxref.fy15.txt\"\n",
    "df = pd.read_csv(url, header=None, delimiter='|', dtype=str, nrows=15000)\n",
    "df.shape\n",
    "\n",
    "# conver to array\n",
    "df1=df.values"
   ]
  },
  {
   "cell_type": "markdown",
   "metadata": {},
   "source": [
    "### Prepare X and y"
   ]
  },
  {
   "cell_type": "code",
   "execution_count": 2,
   "metadata": {
    "scrolled": true
   },
   "outputs": [
    {
     "data": {
      "text/plain": [
       "array([[0, 0, 0, ..., 0, 0, 0],\n",
       "       [0, 0, 0, ..., 0, 0, 0],\n",
       "       [0, 0, 0, ..., 0, 0, 0],\n",
       "       ...,\n",
       "       [0, 0, 0, ..., 0, 0, 0],\n",
       "       [0, 0, 0, ..., 0, 0, 0],\n",
       "       [0, 0, 0, ..., 0, 0, 0]], dtype=int64)"
      ]
     },
     "execution_count": 2,
     "metadata": {},
     "output_type": "execute_result"
    }
   ],
   "source": [
    "# separate array into input and output components\n",
    "inputx = df1[:,1:3]  #or X = df1, same result\n",
    "outputy = df1[:,1]\n",
    "#print(inputx) \n",
    "#print(outputy)\n",
    "\n",
    "#Prepare Prepare Output variable y\n",
    "from sklearn import preprocessing\n",
    "le = preprocessing.LabelEncoder()\n",
    "le.fit(outputy)\n",
    "\n",
    "# check class list\n",
    "#>>> list(le.classes_)\n",
    "\n",
    "# transform y\n",
    "y = le.transform(outputy)\n",
    "#>>> y\n",
    "\n",
    "## test le.transformer\n",
    "#>>> list(le.inverse_transform([4, 2, 1]))\n",
    "\n",
    "# Prepare Output variable X\n",
    "# Option 1: use regular vectorizer with binary=True, default is True\n",
    "from sklearn.feature_extraction.text import CountVectorizer\n",
    "from sklearn.feature_extraction import stop_words\n",
    "\n",
    "vectorizer = CountVectorizer(binary=True, stop_words=stop_words.ENGLISH_STOP_WORDS)\n",
    "# vectorizer\n",
    "corpus = inputx[:,1]\n",
    "X = vectorizer.fit_transform(corpus)\n",
    "X.toarray()\n",
    "\n",
    "\n",
    "# # Option 2: use tfid weighted\n",
    "# from sklearn.feature_extraction.text import TfidfVectorizer\n",
    "# from sklearn.feature_extraction import stop_words\n",
    "\n",
    "# vectorizer_t = TfidfVectorizer(stop_words=stop_words.ENGLISH_STOP_WORDS)\n",
    "\n",
    "# corpus = inputx[:,1]\n",
    "# X = vectorizer_t.fit_transform(corpus)\n",
    "# X.toarray()\n",
    "\n",
    "#>>> vectorizer_t.transform(['Something completely dystrophy.']).toarray()"
   ]
  },
  {
   "cell_type": "markdown",
   "metadata": {},
   "source": [
    "### Persist le encoder mapping for test datasets"
   ]
  },
  {
   "cell_type": "code",
   "execution_count": 4,
   "metadata": {},
   "outputs": [
    {
     "data": {
      "text/plain": [
       "['./joblib_dump/vectroizer_binarytrue_15000.pkl']"
      ]
     },
     "execution_count": 4,
     "metadata": {},
     "output_type": "execute_result"
    }
   ],
   "source": [
    "# from joblib import dump, load\n",
    "# dump(le, './joblib_dump/sklearn_MultinomialNB/le_15000_trnfit.joblib')\n",
    "\n",
    "# from joblib import dump, load\n",
    "# dump(vectorizer_t, './joblib_dump/sklearn_MultinomialNB/vectroizer_t_15000.pkl')\n",
    "\n",
    "# from joblib import dump, load\n",
    "# dump(vectorizer, './joblib_dump/vectroizer_binarytrue_15000.pkl')"
   ]
  },
  {
   "cell_type": "markdown",
   "metadata": {},
   "source": [
    "### Learning and predicting"
   ]
  },
  {
   "cell_type": "markdown",
   "metadata": {},
   "source": [
    "In the case of the digits dataset, the task is to predict, given an image, which digit it represents. We are given samples of each of the 10 possible classes (the digits zero through nine) on which we fit an estimator to be able to predict the classes to which unseen samples belong.\n",
    "In scikit-learn, an estimator for classification is a Python object that implements the methods fit(X, y) and predict(T).\n",
    "An example of an estimator is the class sklearn.svm.SVC, which implements support vector classification. The estimator’s constructor takes as arguments the model’s parameters.\n",
    "For now, we will consider the estimator as a black box:"
   ]
  },
  {
   "cell_type": "code",
   "execution_count": 62,
   "metadata": {},
   "outputs": [],
   "source": [
    "## probability=False by default. Turn off to increase processing speed.\n",
    "#>>> from sklearn import svm\n",
    "#>>> clf = svm.SVC(gamma=0.001, C=100.)\n",
    "#>>> from sklearn.naive_bayes import GaussianNB\n",
    "#>>> clf = GaussianNB()"
   ]
  },
  {
   "cell_type": "code",
   "execution_count": 6,
   "metadata": {},
   "outputs": [
    {
     "data": {
      "text/plain": [
       "SVC(C=0.025, cache_size=500, class_weight=None, coef0=0.0,\n",
       "  decision_function_shape='ovr', degree=3, gamma='auto_deprecated',\n",
       "  kernel='linear', max_iter=-1, probability=False, random_state=None,\n",
       "  shrinking=True, tol=0.001, verbose=False)"
      ]
     },
     "execution_count": 6,
     "metadata": {},
     "output_type": "execute_result"
    }
   ],
   "source": [
    "from sklearn import svm\n",
    "\n",
    "#>>> clf = svm.SVC(gamma=0.001, C=100. cache_size=200)\n",
    "clf = svm.SVC(kernel=\"linear\", C=0.025, cache_size=500)\n",
    "\n",
    "# train the model\n",
    "clf.fit(X, y)\n",
    "\n",
    "#pred = clf.predict(vectors_test)\n",
    "#metrics.f1_score(newsgroups_test.target, pred, average='macro')"
   ]
  },
  {
   "cell_type": "code",
   "execution_count": 7,
   "metadata": {},
   "outputs": [
    {
     "data": {
      "text/plain": [
       "['./joblib_dump/sklearn_svm/clf_svclinear_binary_15000_trnfit.joblib']"
      ]
     },
     "execution_count": 7,
     "metadata": {},
     "output_type": "execute_result"
    }
   ],
   "source": [
    ">>> from joblib import dump, load\n",
    "# >>> dump(clf, './joblib_dump/sklearn_svm/clf_svclinear_15000_trnfit.joblib')\n",
    ">>> dump(clf, './joblib_dump/sklearn_svm/clf_svclinear_binary_15000_trnfit.joblib')"
   ]
  },
  {
   "cell_type": "code",
   "execution_count": 56,
   "metadata": {},
   "outputs": [],
   "source": [
    "#Later, can load back the pickled model (possibly in another Python process) with:\n",
    "#>>> clf = load('filename.joblib')"
   ]
  },
  {
   "cell_type": "code",
   "execution_count": null,
   "metadata": {},
   "outputs": [],
   "source": [
    "# test score\n",
    ">>> from sklearn import metrics\n",
    "\n",
    "#>>> clf = MultinomialNB(alpha=.01)\n",
    "#>>> clf.fit(X, y)\n",
    "\n",
    "pred = clf.predict(X)\n",
    "metrics.f1_score(y, pred, average='macro')"
   ]
  },
  {
   "cell_type": "markdown",
   "metadata": {},
   "source": [
    "### Scores\n",
    "clf = MultinomialNB(alpha=.01)\n",
    "score: 0.9728996360448942"
   ]
  },
  {
   "cell_type": "markdown",
   "metadata": {},
   "source": [
    "Now you can predict new values. In this case, you’ll predict using the last image from digits.data. By predicting, you’ll determine the image from the training set that best matches the last image.\n"
   ]
  },
  {
   "cell_type": "code",
   "execution_count": 23,
   "metadata": {},
   "outputs": [
    {
     "data": {
      "text/plain": [
       "<10x2763 sparse matrix of type '<class 'numpy.float64'>'\n",
       "\twith 25 stored elements in Compressed Sparse Row format>"
      ]
     },
     "execution_count": 23,
     "metadata": {},
     "output_type": "execute_result"
    }
   ],
   "source": [
    "X[:10]"
   ]
  },
  {
   "cell_type": "code",
   "execution_count": 8,
   "metadata": {},
   "outputs": [
    {
     "data": {
      "text/plain": [
       "array([0, 1, 2, 3, 6, 6, 6, 7, 8, 9])"
      ]
     },
     "execution_count": 8,
     "metadata": {},
     "output_type": "execute_result"
    }
   ],
   "source": [
    "#>>> clf.predict(X[:-1])\n",
    ">>> clf.predict(X[:10])"
   ]
  },
  {
   "cell_type": "markdown",
   "metadata": {},
   "source": [
    "##### How far is it from the boundary?\n",
    "Function “decision_function” that computes the signed distance of a point from the boundary. A negative value would indicate class 0 and a positive value would indicate class 1. Also, a value close to 0 would indicate that the point is close to the boundary.\n"
   ]
  },
  {
   "cell_type": "code",
   "execution_count": 24,
   "metadata": {
    "scrolled": false
   },
   "outputs": [],
   "source": [
    "#>>> clf.decision_function(X[:10])"
   ]
  },
  {
   "cell_type": "markdown",
   "metadata": {},
   "source": [
    "##### Class Probability\n",
    "$P(class/input) = 1 / (1 + exp(A * f(input) + B))$"
   ]
  },
  {
   "cell_type": "code",
   "execution_count": 25,
   "metadata": {
    "scrolled": false
   },
   "outputs": [],
   "source": [
    "#>>> clf.predict_proba(X[:10])"
   ]
  },
  {
   "cell_type": "code",
   "execution_count": 58,
   "metadata": {},
   "outputs": [
    {
     "data": {
      "text/plain": [
       "['0010',\n",
       " '0011',\n",
       " '0019',\n",
       " '0020',\n",
       " '0021',\n",
       " '0021',\n",
       " '0021',\n",
       " '0029',\n",
       " '0030',\n",
       " '0031']"
      ]
     },
     "execution_count": 58,
     "metadata": {},
     "output_type": "execute_result"
    }
   ],
   "source": [
    "#>>> list(le.inverse_transform(clf.predict(X[:-1])))\n",
    ">>> list(le.inverse_transform(clf.predict(X[:10])))"
   ]
  },
  {
   "cell_type": "markdown",
   "metadata": {},
   "source": [
    "### Prepare Sample X_test"
   ]
  },
  {
   "cell_type": "code",
   "execution_count": 9,
   "metadata": {},
   "outputs": [
    {
     "data": {
      "text/plain": [
       "(100, 2)"
      ]
     },
     "execution_count": 9,
     "metadata": {},
     "output_type": "execute_result"
    }
   ],
   "source": [
    "import pandas as pd\n",
    "import numpy as np\n",
    "#filename = '~/Downloads/icd9dxref.fy15.txt'\n",
    "url=\"https://raw.githubusercontent.com/azknowesis/team-collaboration/master/NLP/oth_dx.txt\"\n",
    "df_test = pd.read_csv(url, header=None, delimiter='|', dtype=str, nrows = 100)\n",
    "df_test.shape\n",
    "#print(df)"
   ]
  },
  {
   "cell_type": "code",
   "execution_count": 10,
   "metadata": {},
   "outputs": [
    {
     "name": "stdout",
     "output_type": "stream",
     "text": [
      "0                                 blind hypotensive eye\n",
      "1                                              headache\n",
      "2              concussion with no loss of consciousness\n",
      "3                                   epiretinal membrane\n",
      "4     subretinal and intraretinal hemorrhage od with...\n",
      "5                          pdx traumatic vision loss od\n",
      "6     suspect corneal abrasion due to irritation fro...\n",
      "7                                        pseudo aphakia\n",
      "8     s/p os 25c ppv/ilm el with icg/ivf/5f6 20% 1/8...\n",
      "9                                              pciol od\n",
      "10                 eye sensitivity to light photophobia\n",
      "11    s/p os 256ppv/icm peel+fc6/ivf/sf6 20% macular...\n",
      "12                                        eye trauma od\n",
      "13                                    macular puckering\n",
      "14                                     dry eye syndrome\n",
      "15                 visit for military services physical\n",
      "16                       s/p os 256 ppv/ic6/ivt/sf6 25%\n",
      "17                                        eye trauma od\n",
      "18      strabismus non paralytic exotropia monocular od\n",
      "19              strabismus non paralytic hypertropia od\n",
      "20                                    patient education\n",
      "21                      pdx chronic obstructive disease\n",
      "22                                             pciol od\n",
      "23                                           eye trauma\n",
      "24                 foreign body intraocular unspecified\n",
      "25                                   abrasion of cornea\n",
      "26                                             pciol od\n",
      "27                                 ddx corneal abrasion\n",
      "28                                    ddx corneal ulcer\n",
      "29      s/p ppv/ilm peel/mac hole repair/ivt/sf6 stable\n",
      "                            ...                        \n",
      "70          recent retinal detachment total or subtotal\n",
      "71                        traction detachment of retina\n",
      "72                      other proliferative retinopathy\n",
      "73               epiretinal membrane os reproliferation\n",
      "74                                          hypotony os\n",
      "75                                           uveitis os\n",
      "76                       vitreous membranes and strands\n",
      "77                                    pseudo aphakia os\n",
      "78                                 nuclear sclerosis od\n",
      "79                 visit for military services physical\n",
      "80                 closed skull fracture of orbital rim\n",
      "81                                retinal tear left eye\n",
      "82    preglaucoma open angle with cupping of optic d...\n",
      "83                    chorioretinal scar far peripheral\n",
      "84    diabetes mellitus without mention of complicat...\n",
      "85                                    postsurgical exam\n",
      "86                                    ruptured globe od\n",
      "87                                retinal tear left eye\n",
      "88                                    facial injury lip\n",
      "89                                   facial injury nose\n",
      "90                                  facial injury cheek\n",
      "91          superficial injury abrasion of right cornea\n",
      "92                           dacryocystitis unspecified\n",
      "93                                     periorbital pain\n",
      "94           contusion with intact skin surface eyeball\n",
      "95            contusion with intact skin surface eyelid\n",
      "96                                    scar hypertrophic\n",
      "97                                    scar hypertrophic\n",
      "98                 scar conditions and fibrosis of skin\n",
      "99                     other acquired deformity of head\n",
      "Name: 1, Length: 100, dtype: object\n"
     ]
    },
    {
     "data": {
      "text/plain": [
       "(100,)"
      ]
     },
     "execution_count": 10,
     "metadata": {},
     "output_type": "execute_result"
    }
   ],
   "source": [
    "#df1 = df[df[1].str.contains(\"36\")]\n",
    "#df_test1=df_test[1]\n",
    "df_test1 = df_test.iloc[0:100,1]\n",
    "print(df_test1)\n",
    "df_test1.shape"
   ]
  },
  {
   "cell_type": "markdown",
   "metadata": {},
   "source": [
    "Convert Dataframe to list"
   ]
  },
  {
   "cell_type": "code",
   "execution_count": 11,
   "metadata": {},
   "outputs": [
    {
     "data": {
      "text/plain": [
       "['blind hypotensive eye',\n",
       " 'headache',\n",
       " 'concussion with no loss of consciousness',\n",
       " 'epiretinal membrane',\n",
       " 'subretinal and intraretinal hemorrhage od with choroidal rupture s/p recent globe exploration',\n",
       " 'pdx traumatic vision loss od',\n",
       " 'suspect corneal abrasion due to irritation from contact lense',\n",
       " 'pseudo aphakia',\n",
       " 's/p os 25c ppv/ilm el with icg/ivf/5f6 20% 1/8/09 2/2 post traumatic macular hole',\n",
       " 'pciol od',\n",
       " 'eye sensitivity to light photophobia',\n",
       " 's/p os 256ppv/icm peel+fc6/ivf/sf6 20% macular hole closed',\n",
       " 'eye trauma od',\n",
       " 'macular puckering',\n",
       " 'dry eye syndrome',\n",
       " 'visit for military services physical',\n",
       " 's/p os 256 ppv/ic6/ivt/sf6 25%',\n",
       " 'eye trauma od',\n",
       " 'strabismus non paralytic exotropia monocular od',\n",
       " 'strabismus non paralytic hypertropia od',\n",
       " 'patient education',\n",
       " 'pdx chronic obstructive disease',\n",
       " 'pciol od',\n",
       " 'eye trauma',\n",
       " 'foreign body intraocular unspecified',\n",
       " 'abrasion of cornea',\n",
       " 'pciol od',\n",
       " 'ddx corneal abrasion',\n",
       " 'ddx corneal ulcer',\n",
       " 's/p ppv/ilm peel/mac hole repair/ivt/sf6 stable',\n",
       " 's/p rt os stable rd precation',\n",
       " 'foveal depression os',\n",
       " 'retinal scar od',\n",
       " 'myopia',\n",
       " 'postsurgical state of eye and adnexa',\n",
       " 'old retinal detachment total or subtotal',\n",
       " 'h/o traumatic macular hole os s/p repair.',\n",
       " 'retina scar stable smalll residual erm on oct',\n",
       " 'eye trauma',\n",
       " 'chronic dacryocystitis',\n",
       " 'routine eye exam',\n",
       " 'traction detachment of retina',\n",
       " 'other proliferative retinopathy',\n",
       " 'retinal detachments with retinal defect',\n",
       " 'superficial injury abrasion of left cornea',\n",
       " 'hypotony of eye',\n",
       " 'epiretinal membrane os',\n",
       " 'uveitis os',\n",
       " 'pseudo aphakia os',\n",
       " 'nuclear sclerosis od',\n",
       " 's/p explosion with corneal fb right eye',\n",
       " 'c/d asymmetry os>od',\n",
       " 'macular puckering',\n",
       " 'adhesions of the posterior synechiae of the iris',\n",
       " 'superficial injury abrasion of cornea right eye',\n",
       " 'some conjunctival irritation left eye',\n",
       " \"des ou possibly allergies but the symptoms don't fit allergic conjunctivitis\",\n",
       " 'postsurgical exam',\n",
       " 'hypertrophic scar',\n",
       " 'phthisis bulbi of the right eye',\n",
       " 's/p globe explorations os',\n",
       " 'hemorrhagic conjunctival chemosis os',\n",
       " 'retinal tear without detachment left eye.',\n",
       " 'cataract',\n",
       " 'pdx screening exam',\n",
       " 'unspecified retinal detachment',\n",
       " 'pseudo aphakia posterior chamber od',\n",
       " 'eye trauma',\n",
       " 'commotio retinae with macular hole full thickness ~ stage 2 3.h/o retinal tear os',\n",
       " 'h/o floor/medial wall fx s/p repair mild enophthalmos + lll lag',\n",
       " 'recent retinal detachment total or subtotal',\n",
       " 'traction detachment of retina',\n",
       " 'other proliferative retinopathy',\n",
       " 'epiretinal membrane os reproliferation',\n",
       " 'hypotony os',\n",
       " 'uveitis os',\n",
       " 'vitreous membranes and strands',\n",
       " 'pseudo aphakia os',\n",
       " 'nuclear sclerosis od',\n",
       " 'visit for military services physical',\n",
       " 'closed skull fracture of orbital rim',\n",
       " 'retinal tear left eye',\n",
       " 'preglaucoma open angle with cupping of optic disc ou',\n",
       " 'chorioretinal scar far peripheral',\n",
       " 'diabetes mellitus without mention of complication type ii or unspecified type not stated as uncontrolled',\n",
       " 'postsurgical exam',\n",
       " 'ruptured globe od',\n",
       " 'retinal tear left eye',\n",
       " 'facial injury lip',\n",
       " 'facial injury nose',\n",
       " 'facial injury cheek',\n",
       " 'superficial injury abrasion of right cornea',\n",
       " 'dacryocystitis unspecified',\n",
       " 'periorbital pain',\n",
       " 'contusion with intact skin surface eyeball',\n",
       " 'contusion with intact skin surface eyelid',\n",
       " 'scar hypertrophic',\n",
       " 'scar hypertrophic',\n",
       " 'scar conditions and fibrosis of skin',\n",
       " 'other acquired deformity of head']"
      ]
     },
     "execution_count": 11,
     "metadata": {},
     "output_type": "execute_result"
    }
   ],
   "source": [
    ">>> inputx_test = df_test1.astype(str).values.tolist()\n",
    ">>> inputx_test"
   ]
  },
  {
   "cell_type": "code",
   "execution_count": 12,
   "metadata": {},
   "outputs": [
    {
     "data": {
      "text/plain": [
       "(100, 5913)"
      ]
     },
     "execution_count": 12,
     "metadata": {},
     "output_type": "execute_result"
    }
   ],
   "source": [
    "# >>> X_test = vectorizer_t.transform(inputx_test)\n",
    ">>> X_test = vectorizer.transform(inputx_test)\n",
    ">>> X_test.toarray()\n",
    ">>> X_test.shape"
   ]
  },
  {
   "cell_type": "code",
   "execution_count": 63,
   "metadata": {
    "scrolled": true
   },
   "outputs": [],
   "source": [
    "#>>> clf.predict(X_test)"
   ]
  },
  {
   "cell_type": "code",
   "execution_count": 13,
   "metadata": {
    "scrolled": true
   },
   "outputs": [
    {
     "data": {
      "text/plain": [
       "['36041',\n",
       " '7840',\n",
       " '8500',\n",
       " '37133',\n",
       " '36363',\n",
       " '9585',\n",
       " '37182',\n",
       " '37931',\n",
       " '78033',\n",
       " 'V620',\n",
       " 'V411',\n",
       " '37022',\n",
       " 'V411',\n",
       " '36256',\n",
       " '7580',\n",
       " 'E0001',\n",
       " 'V620',\n",
       " 'V411',\n",
       " '37811',\n",
       " '37850',\n",
       " 'V6549 B',\n",
       " '49320',\n",
       " 'V620',\n",
       " 'V411',\n",
       " '36060',\n",
       " 'V595',\n",
       " 'V620',\n",
       " '52125',\n",
       " '37006',\n",
       " '37161',\n",
       " '37161',\n",
       " 'V790',\n",
       " '7014',\n",
       " '3671',\n",
       " '9409',\n",
       " '36107',\n",
       " '9585',\n",
       " '7014',\n",
       " 'V411',\n",
       " '37542',\n",
       " 'V411',\n",
       " '36181',\n",
       " '36229',\n",
       " '36130',\n",
       " '9181',\n",
       " '36031',\n",
       " '37133',\n",
       " '36011',\n",
       " '37931',\n",
       " '36616',\n",
       " 'V411',\n",
       " '52412',\n",
       " '36256',\n",
       " '36471',\n",
       " '9181',\n",
       " 'V411',\n",
       " '37239',\n",
       " 'V4589',\n",
       " '7014',\n",
       " 'V411',\n",
       " '36089',\n",
       " '37275',\n",
       " '3619',\n",
       " '3668',\n",
       " 'V8279',\n",
       " '3619',\n",
       " '37931',\n",
       " 'V411',\n",
       " '37022',\n",
       " '72631',\n",
       " '36105',\n",
       " '36181',\n",
       " '36229',\n",
       " '37133',\n",
       " '36031',\n",
       " '36011',\n",
       " '37925',\n",
       " '37931',\n",
       " '36616',\n",
       " 'E0001',\n",
       " '8026',\n",
       " 'V411',\n",
       " '37714',\n",
       " '36330',\n",
       " '25000',\n",
       " 'V4589',\n",
       " '36089',\n",
       " 'V411',\n",
       " '9514',\n",
       " '9514',\n",
       " '9514',\n",
       " '9181',\n",
       " '37530',\n",
       " '78659',\n",
       " '9213',\n",
       " '92231',\n",
       " '7014',\n",
       " '7014',\n",
       " '7092',\n",
       " '73819']"
      ]
     },
     "execution_count": 13,
     "metadata": {},
     "output_type": "execute_result"
    }
   ],
   "source": [
    ">>> list(le.inverse_transform(clf.predict(X_test)))"
   ]
  },
  {
   "cell_type": "code",
   "execution_count": null,
   "metadata": {},
   "outputs": [],
   "source": []
  }
 ],
 "metadata": {
  "kernelspec": {
   "display_name": "Python 3",
   "language": "python",
   "name": "python3"
  },
  "language_info": {
   "codemirror_mode": {
    "name": "ipython",
    "version": 3
   },
   "file_extension": ".py",
   "mimetype": "text/x-python",
   "name": "python",
   "nbconvert_exporter": "python",
   "pygments_lexer": "ipython3",
   "version": "3.6.7"
  }
 },
 "nbformat": 4,
 "nbformat_minor": 2
}
